{
 "cells": [
  {
   "cell_type": "code",
   "execution_count": 3,
   "metadata": {},
   "outputs": [],
   "source": [
    "import random\n",
    "from random import randint, choice\n",
    "import sys\n",
    "import time\n",
    "import faker\n",
    "from datetime import datetime\n",
    "import os\n",
    "\n",
    "fecha = datetime.now()\n",
    "fecha_archivo = fecha.strftime(\"%Y%m%d\")\n",
    "\n",
    "cwd = os.getcwd()\n",
    "path = os.path.join(cwd, fecha_archivo)\n",
    "os.mkdir(path)\n",
    "\n",
    "fak = faker.Faker()\n",
    "\n",
    "\n",
    "dictionary = {'request': ['GET', 'POST', 'PUT', 'DELETE'], 'endpoint': ['/usr', '/usr/admin', '/usr/admin/developer', '/usr/login', '/usr/register'], 'statuscode': [\n",
    "    '303', '404', '500', '403', '502', '304','200'], \n",
    "    'ua' : ['Mozilla/5.0 (Windows NT 10.0; Win64; x64; rv:84.0) Gecko/20100101 Firefox/84.0',\n",
    "            'Mozilla/5.0 (Android 10; Mobile; rv:84.0) Gecko/84.0 Firefox/84.0',\n",
    "            'Mozilla/5.0 (Windows NT 10.0; Win64; x64) AppleWebKit/537.36 (KHTML, like Gecko) Chrome/87.0.4280.141 Safari/537.36',\n",
    "            'Mozilla/5.0 (Linux; Android 10; ONEPLUS A6000) AppleWebKit/537.36 (KHTML, like Gecko) Chrome/87.0.4280.141 Mobile Safari/537.36',\n",
    "            'Mozilla/5.0 (Windows NT 10.0; Win64; x64) AppleWebKit/537.36 (KHTML, like Gecko) Chrome/89.0.4380.0 Safari/537.36 Edg/89.0.759.0',\n",
    "            'Mozilla/5.0 (Linux; Android 10; ONEPLUS A6000) AppleWebKit/537.36 (KHTML, like Gecko) Chrome/77.0.3865.116 Mobile Safari/537.36 EdgA/45.12.4.5121',\n",
    "            'Mozilla/5.0 (Windows NT 10.0; Win64; x64) AppleWebKit/537.36 (KHTML, like Gecko) Chrome/87.0.4280.88 Safari/537.36 OPR/73.0.3856.329',\n",
    "            'Mozilla/5.0 (Linux; Android 10; ONEPLUS A6000) AppleWebKit/537.36 (KHTML, like Gecko) Chrome/86.0.4240.198 Mobile Safari/537.36 OPR/61.2.3076.56749',\n",
    "            'Mozilla/5.0 (Macintosh; Intel Mac OS X 10_9_3) AppleWebKit/537.75.14 (KHTML, like Gecko) Version/7.0.3 Safari/7046A194A',\n",
    "            'Mozilla/5.0 (iPhone; CPU iPhone OS 12_4_9 like Mac OS X) AppleWebKit/605.1.15 (KHTML, like Gecko) Version/12.1.2 Mobile/15E148 Safari/604.1'],\n",
    "            'referrer' : ['https://www.tienda.com.pe/p/teclado-bluetooth-logitech-pop-keys-negroamarillo',\n",
    "            'https://www.tienda.com.pe/p/logitech-g502-hero-lightspeed-mouse-logitech-wireless-rgb-x',\n",
    "            'https://www.tienda.com.pe/p/televisor-50-samsung-led-4k-ultra-hd-smart-un50au7090gxpe-2021',\n",
    "            'https://www.tienda.com.pe/p/amazon-echo-dot-4-gen-colores-varios-',\n",
    "            'https://www.tienda.com.pe/p/cargador-inteligente-de-bateri-a-12v-partidor-de-auto',\n",
    "            'https://www.tienda.com.pe/p/librero-lina-la-casa-del-mueblero-blanco',\n",
    "            'https://www.tienda.com.pe/p/xiaomi-11t-eu-8gb-256gb-meteorite-gray',\n",
    "            'https://www.tienda.com.pe/p/smartphone-galaxy-a33-5g-negro-travel-adapter-15w',\n",
    "            'https://www.tienda.com.pe/p/zapatillas-hombre-adidas-galaxy-5-fw5717',\n",
    "            'https://www.tienda.com.pe/p/jbl-charge-5-parlante-bluetooth-acua-tico-51',\n",
    "            'https://www.tienda.com.pe/p/equipo-de-sonido-micronics-melody-s7401-bluetooth']}\n",
    "\n",
    "def create_logs_by_country(country):\n",
    "    f = open(\"{fecha_archivo}/{country}{fecha_archivo}logfiles.log\".format(fecha_archivo=fecha_archivo,country=country),\"w\")\n",
    "    for _ in range(1,100001):\n",
    "        f.write('%s\\t-\\t-\\t[%s]\\t\"%s\\t%s\\tHTTP/1.0\"\\t%s\\t%s\\t\"%s\"\\t\"%s\"\\t%s\\n' % \n",
    "            (fak.ipv4(),\n",
    "            fak.past_datetime(start_date='-5h'), \n",
    "            choice(dictionary['request']),\n",
    "            choice(dictionary['endpoint']),\n",
    "            choice(dictionary['statuscode']),    \n",
    "            str(int(random.gauss(5000,50))),\n",
    "            choice(dictionary['referrer']),\n",
    "            choice(dictionary['ua']),\n",
    "            country))\n"
   ]
  },
  {
   "cell_type": "code",
   "execution_count": 4,
   "metadata": {},
   "outputs": [
    {
     "name": "stdout",
     "output_type": "stream",
     "text": [
      "PE archivo log creado\n",
      "CO archivo log creado\n",
      "CL archivo log creado\n",
      "EC archivo log creado\n",
      "AR archivo log creado\n"
     ]
    }
   ],
   "source": [
    "paises=['PE','CO','CL','EC','AR']\n",
    "for p in paises:\n",
    "    create_logs_by_country(p)\n",
    "    print('{} archivo log creado'.format(p))"
   ]
  }
 ],
 "metadata": {
  "kernelspec": {
   "display_name": "Python 3.9.7 ('base')",
   "language": "python",
   "name": "python3"
  },
  "language_info": {
   "codemirror_mode": {
    "name": "ipython",
    "version": 3
   },
   "file_extension": ".py",
   "mimetype": "text/x-python",
   "name": "python",
   "nbconvert_exporter": "python",
   "pygments_lexer": "ipython3",
   "version": "3.9.7"
  },
  "orig_nbformat": 4,
  "vscode": {
   "interpreter": {
    "hash": "610a6f344c2137faf927ea819c63f6cee33a2c04455044b28099f39fe9722347"
   }
  }
 },
 "nbformat": 4,
 "nbformat_minor": 2
}
